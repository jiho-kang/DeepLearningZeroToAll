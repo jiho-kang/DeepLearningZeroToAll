{
 "cells": [
  {
   "cell_type": "markdown",
   "id": "bc3a718e",
   "metadata": {},
   "source": [
    "# 모두를 위한 딥러닝 tensorflow"
   ]
  },
  {
   "cell_type": "code",
   "execution_count": 4,
   "id": "fabf611f",
   "metadata": {},
   "outputs": [],
   "source": [
    "##Hello Tensorflow"
   ]
  },
  {
   "cell_type": "code",
   "execution_count": 16,
   "id": "f79c549d",
   "metadata": {
    "scrolled": true
   },
   "outputs": [
    {
     "name": "stdout",
     "output_type": "stream",
     "text": [
      "b'Hello,Tensorflow!'\n"
     ]
    }
   ],
   "source": [
    "import tensorflow as tf\n",
    "hello = tf.constant(\"Hello,Tensorflow!\")\n",
    "sess = tf.Session()\n",
    "print(sess.run(hello))"
   ]
  },
  {
   "cell_type": "markdown",
   "id": "4c12fb86",
   "metadata": {},
   "source": [
    "# 01) Computational Graph"
   ]
  },
  {
   "cell_type": "markdown",
   "id": "7f0fa7c4",
   "metadata": {},
   "source": [
    "(1) Build graph(tensors) using TensorFlow operations"
   ]
  },
  {
   "cell_type": "code",
   "execution_count": 7,
   "id": "f5916b4c",
   "metadata": {},
   "outputs": [],
   "source": [
    "node1 = tf.constant(3.0, tf.float32) #넣을내용,데이터형식\n",
    "node2 = tf.constant(4.0) #also tf.float32 implicitly\n",
    "node3 = tf.add(node1,node2) #node3 = node1 + node2도 가능"
   ]
  },
  {
   "cell_type": "code",
   "execution_count": 8,
   "id": "3b4e29d8",
   "metadata": {},
   "outputs": [
    {
     "name": "stdout",
     "output_type": "stream",
     "text": [
      "node1: Tensor(\"Const_3:0\", shape=(), dtype=float32) node2: Tensor(\"Const_3:0\", shape=(), dtype=float32)\n",
      "node3: Tensor(\"Add:0\", shape=(), dtype=float32)\n"
     ]
    }
   ],
   "source": [
    "print(\"node1:\", node2, \"node2:\", node2)\n",
    "print(\"node3:\", node3)"
   ]
  },
  {
   "cell_type": "markdown",
   "id": "1de95278",
   "metadata": {},
   "source": [
    "(2) feed data and run graph (operation)\n",
    "    sess.run(op)"
   ]
  },
  {
   "cell_type": "markdown",
   "id": "8e5e5ed6",
   "metadata": {},
   "source": [
    "(3) update variables in the graph\n",
    "    (and return values)"
   ]
  },
  {
   "cell_type": "code",
   "execution_count": 17,
   "id": "2e474e1c",
   "metadata": {},
   "outputs": [
    {
     "name": "stdout",
     "output_type": "stream",
     "text": [
      "sess.run([node1,node2]):  [3.0, 4.0]\n",
      "sess.run(node3):  7.0\n"
     ]
    }
   ],
   "source": [
    "sess = tf.Session()\n",
    "print(\"sess.run([node1,node2]): \",sess.run([node1,node2]))\n",
    "print(\"sess.run(node3): \",sess.run(node3))"
   ]
  },
  {
   "cell_type": "markdown",
   "id": "348df16d",
   "metadata": {},
   "source": [
    "### Placeholder (like input)"
   ]
  },
  {
   "cell_type": "markdown",
   "id": "b1c46927",
   "metadata": {},
   "source": [
    "placeholder로 미지수로 남기고, feed_dict로 넣어줌. n개 가능"
   ]
  },
  {
   "cell_type": "code",
   "execution_count": 19,
   "id": "c100ac71",
   "metadata": {
    "scrolled": true
   },
   "outputs": [
    {
     "name": "stdout",
     "output_type": "stream",
     "text": [
      "7.5\n",
      "[3. 7.]\n"
     ]
    }
   ],
   "source": [
    "a = tf.placeholder(tf.float32)\n",
    "b = tf.placeholder(tf.float32)\n",
    "adder_node = a+b #tf.add(a,b)도 가능\n",
    "\n",
    "print(sess.run(adder_node, feed_dict={a:3,b:4.5}))\n",
    "print(sess.run(adder_node, feed_dict={a:[1,3], b:[2,4]}))"
   ]
  },
  {
   "cell_type": "markdown",
   "id": "9c28fddf",
   "metadata": {},
   "source": [
    "### Tensor Ranks, Shpaes and Types"
   ]
  },
  {
   "cell_type": "markdown",
   "id": "4a6dbc4a",
   "metadata": {},
   "source": [
    "Rank / Mateh entity / Python example"
   ]
  },
  {
   "cell_type": "markdown",
   "id": "384448f6",
   "metadata": {},
   "source": [
    "    0 / Scalar(magnitude only) / s = 483\n",
    "    1 / Vector(magnitude and directioni) / v = [1.2, 3.3, 4.3]\n",
    "    2 / Matrix(table of numbers) / m = [[1,2], [5,6], [7,3]]\n",
    "    3 / 3-Tensor(cube of numbers) t = [[[2],[3],[4]],[[5],[6],[7]],[[8],[9],[10]]]\n",
    "    n / n-Tensor"
   ]
  },
  {
   "cell_type": "markdown",
   "id": "c7009821",
   "metadata": {},
   "source": [
    "# 02) Linear regression 구현"
   ]
  },
  {
   "cell_type": "markdown",
   "id": "2fbd8f2b",
   "metadata": {},
   "source": [
    "### (1) Build graph using TF operations\n",
    "H(x) = Wx+b"
   ]
  },
  {
   "cell_type": "code",
   "execution_count": 20,
   "id": "0b016507",
   "metadata": {},
   "outputs": [],
   "source": [
    "x = [1,2,3]\n",
    "y = [1,2,3]\n",
    "\n",
    "#tt.Variable = TF가 학습하는 과정에서 변경시키는 v이다.\n",
    "w = tf.Variable(tf.random_normal([1]), name='weight')\n",
    "b = tf.Variable(tf.random_normal([1]), name='bias')\n",
    "#our hypothesis Wx+b\n",
    "hypothesis = w*x + b"
   ]
  },
  {
   "cell_type": "markdown",
   "id": "6d04a452",
   "metadata": {},
   "source": [
    "cost(W,b) = 1/m (시그마 i=1~m : (H(xi)-yi)^2)"
   ]
  },
  {
   "cell_type": "code",
   "execution_count": 21,
   "id": "cb68297c",
   "metadata": {},
   "outputs": [],
   "source": [
    "#tf.reduce_mean: 평균 값을 구해줌\n",
    "#tf.square: 제곱\n",
    "cost = tf.reduce_mean(tf.square(hypothesis - y))"
   ]
  },
  {
   "cell_type": "markdown",
   "id": "14097d66",
   "metadata": {},
   "source": [
    "GradientDescent (경사하강법)로 cost 최소값 구하기"
   ]
  },
  {
   "cell_type": "code",
   "execution_count": 22,
   "id": "a800ec11",
   "metadata": {},
   "outputs": [],
   "source": [
    "optimizer =  tf.train.GradientDescentOptimizer(learning_rate=0.01)\n",
    "train = optimizer.minimize(cost)"
   ]
  },
  {
   "cell_type": "markdown",
   "id": "5c26cb86",
   "metadata": {},
   "source": [
    "### (2),(3) Run/Update graph and get results"
   ]
  },
  {
   "cell_type": "code",
   "execution_count": 28,
   "id": "e0c0473c",
   "metadata": {},
   "outputs": [
    {
     "name": "stdout",
     "output_type": "stream",
     "text": [
      "0 None 15.762543 [-1.9815823] [2.8269267]\n",
      "100 None 1.0607485 [-0.19620547] [2.719229]\n",
      "200 None 0.6523307 [0.06194156] [2.132427]\n",
      "300 None 0.401165 [0.26437336] [1.6722523]\n",
      "400 None 0.24670522 [0.4231205] [1.3113828]\n",
      "500 None 0.15171678 [0.5476103] [1.0283883]\n",
      "600 None 0.093301594 [0.6452353] [0.8064636]\n",
      "700 None 0.057377815 [0.72179306] [0.6324298]\n",
      "800 None 0.035285737 [0.7818297] [0.4959523]\n",
      "900 None 0.021699736 [0.8289106] [0.38892657]\n",
      "1000 None 0.01334473 [0.8658314] [0.3049967]\n",
      "1100 None 0.00820664 [0.8947848] [0.23917891]\n",
      "1200 None 0.005046841 [0.9174901] [0.18756437]\n",
      "1300 None 0.0031036653 [0.9352957] [0.14708824]\n",
      "1400 None 0.0019086679 [0.9492586] [0.11534683]\n",
      "1500 None 0.0011737797 [0.96020865] [0.09045516]\n",
      "1600 None 0.0007218362 [0.9687956] [0.07093499]\n",
      "1700 None 0.0004439084 [0.9755295] [0.05562723]\n",
      "1800 None 0.00027299262 [0.9808102] [0.04362299]\n",
      "1900 None 0.00016788131 [0.9849513] [0.03420916]\n",
      "2000 None 0.00010324144 [0.9881988] [0.02682685]\n"
     ]
    }
   ],
   "source": [
    "sess =tf.Session()\n",
    "#tf.variable을 사용할 경우 run전에 tf.global_variables_initializer()를 사용해야함\n",
    "sess.run(tf.global_variables_initializer())\n",
    "\n",
    "for step in range(2001):\n",
    "    sess.run(train)\n",
    "    if step % 100 == 0:\n",
    "        print(step, sess.run(cost), sess.run(w), sess.run(b))"
   ]
  },
  {
   "cell_type": "markdown",
   "id": "9d7b050d",
   "metadata": {},
   "source": [
    "### Full code with placeholders"
   ]
  },
  {
   "cell_type": "code",
   "execution_count": 47,
   "id": "3a738f19",
   "metadata": {},
   "outputs": [
    {
     "name": "stdout",
     "output_type": "stream",
     "text": [
      "0 3.0342264 [0.7811154] [0.20755665]\n",
      "200 0.027220666 [1.1369014] [0.6974932]\n",
      "400 0.008203988 [1.0751572] [0.87902856]\n",
      "600 0.0024725902 [1.0412605] [0.9786892]\n",
      "800 0.00074520375 [1.0226514] [1.0334018]\n",
      "1000 0.00022459036 [1.0124351] [1.0634389]\n",
      "1200 6.769014e-05 [1.0068269] [1.0799282]\n",
      "1400 2.0401305e-05 [1.0037479] [1.0889806]\n",
      "1600 6.148981e-06 [1.0020576] [1.0939503]\n",
      "1800 1.853588e-06 [1.0011296] [1.0966785]\n",
      "2000 5.5907356e-07 [1.0006204] [1.0981758]\n",
      "[6.1012774]\n",
      "[3.5997267]\n"
     ]
    }
   ],
   "source": [
    "import tensorflow as tf\n",
    "tf.set_random_seed(777)  # for reproducibility\n",
    "\n",
    "w = tf.Variable(tf.random_normal([1]), name='weight')\n",
    "b = tf.Variable(tf.random_normal([1]), name='bias')\n",
    "x = tf.placeholder(tf.float32, shape = [None])\n",
    "y = tf.placeholder(tf.float32, shape = [None])\n",
    "\n",
    "hy = w*x+b\n",
    "cost = tf.reduce_mean(tf.square(hy-y))\n",
    "optimizer = tf.train.GradientDescentOptimizer(learning_rate=0.01)\n",
    "train = optimizer.minimize(cost)\n",
    "\n",
    "sess=tf.Session()\n",
    "sess.run(tf.global_variables_initializer())\n",
    "\n",
    "for step in range(2001):\n",
    "    cost_val, w_val, b_val, _ = sess.run([cost, w, b, train], feed_dict={x:[1,2,3,4], y:[2.1,3.1,4.1,5.1]})\n",
    "    if step %200==0:\n",
    "        print(step,cost_val,w_val,b_val)\n",
    "        \n",
    "print(sess.run(hy, feed_dict={x: [5]}))\n",
    "print(sess.run(hy, feed_dict={x: [2.5]}))"
   ]
  },
  {
   "cell_type": "markdown",
   "id": "936b7a0e",
   "metadata": {},
   "source": [
    "# 03) Linear Regression의 cost 최소화 구현"
   ]
  },
  {
   "cell_type": "markdown",
   "id": "a3d759c0",
   "metadata": {},
   "source": [
    "### cost함수 그리기"
   ]
  },
  {
   "cell_type": "code",
   "execution_count": 50,
   "id": "e33cffd1",
   "metadata": {
    "scrolled": true
   },
   "outputs": [
    {
     "data": {
      "image/png": "[encoded data removed]",
      "text/plain": [
       "<Figure size 432x288 with 1 Axes>"
      ]
     },
     "metadata": {
      "needs_background": "light"
     },
     "output_type": "display_data"
    }
   ],
   "source": [
    "import tensorflow as tf\n",
    "import matplotlib.pyplot as plt\n",
    "\n",
    "x=[1,2,3]\n",
    "y=[1,2,3]\n",
    "w=tf.placeholder(tf.float32)\n",
    "hypothesis = w*x\n",
    "\n",
    "cost = tf.reduce_mean(tf.square(hypothesis-y))\n",
    "sess=tf.Session()\n",
    "sess.run(tf.global_variables_initializer())\n",
    "\n",
    "w_val=[]\n",
    "cost_val=[]\n",
    "for i in range(-30,50):\n",
    "    feed_w = i*0.1\n",
    "    curr_cost, curr_w = sess.run([cost,w], feed_dict = {w: feed_w})\n",
    "    w_val.append(curr_w)\n",
    "    cost_val.append(curr_cost)\n",
    "    \n",
    "#show the cost function\n",
    "plt.plot(w_val, cost_val)\n",
    "plt.show()"
   ]
  },
  {
   "cell_type": "markdown",
   "id": "3107e5de",
   "metadata": {},
   "source": [
    "### cost함수 미분하기\n",
    "    위의 cost function에서 gradient descent를 활용하여 미분하기\n",
    "    cost(w)를 미분했을 때 양/음 값이 나오면 w값을 -/+조절하는 함수 만들기"
   ]
  },
  {
   "cell_type": "code",
   "execution_count": null,
   "id": "8bffc0ba",
   "metadata": {},
   "outputs": [],
   "source": [
    "#Minimize: Gradient Descent using derivative(미분):\n",
    "#w -= Learning_rate * derivative\n",
    "learning_rate = 0.1\n",
    "gradient = tf.reduce_mean((w*x-y)*x)\n",
    "descent = w - learning_rate * gradient\n",
    "update = w.assign(descent)"
   ]
  },
  {
   "cell_type": "markdown",
   "id": "7322a276",
   "metadata": {},
   "source": [
    "## full code"
   ]
  },
  {
   "cell_type": "code",
   "execution_count": 77,
   "id": "f1e2a358",
   "metadata": {},
   "outputs": [
    {
     "ename": "SyntaxError",
     "evalue": "invalid syntax (<ipython-input-77-e016a020bed2>, line 12)",
     "output_type": "error",
     "traceback": [
      "\u001b[1;36m  File \u001b[1;32m\"<ipython-input-77-e016a020bed2>\"\u001b[1;36m, line \u001b[1;32m12\u001b[0m\n\u001b[1;33m    이 부분이\u001b[0m\n\u001b[1;37m        ^\u001b[0m\n\u001b[1;31mSyntaxError\u001b[0m\u001b[1;31m:\u001b[0m invalid syntax\n"
     ]
    }
   ],
   "source": [
    "import tensorflow as tf\n",
    "x_data=[1,2,3]\n",
    "y_data=[1,2,3]\n",
    "\n",
    "w=tf.Variable(tf.random_normal([1]), name = 'weight')\n",
    "x=tf.placeholder(tf.float32, shape=[None])\n",
    "y=tf.placeholder(tf.float32, shape=[None])\n",
    "hy=w*x\n",
    "cost = tf.reduce_mean(tf.square(hy-y))\n",
    "\n",
    "#이 부분이\n",
    "#optimizer = tf.train.GradientDescentOptimizer(learning_rate=0.01)\n",
    "#train = optimizer.minimize(cost)\n",
    "#로 대체할 수 있는 것\n",
    "learning_rate = 0.1\n",
    "gradient = tf.reduce_mean((w*x-y)*x)\n",
    "descent = w - learning_rate * gradient\n",
    "update = w.assign(descent)\n",
    "\n",
    "sess=tf.Session()\n",
    "sess.run(tf.global_variables_initializer())\n",
    "\n",
    "for step in range(21):\n",
    "    sess.run(update, feed_dict={x:x_data,y:y_data})\n",
    "    print(step, sess.run(cost,feed_dict={x:x_data,y:y_data}), sess.run(w))"
   ]
  },
  {
   "cell_type": "markdown",
   "id": "ecfd26a2",
   "metadata": {},
   "source": [
    "# 04-1) multi-variable linear regression 구현"
   ]
  },
  {
   "cell_type": "markdown",
   "id": "cc92809e",
   "metadata": {},
   "source": [
    "### Matrix (X)"
   ]
  },
  {
   "cell_type": "code",
   "execution_count": 68,
   "id": "e70abb0a",
   "metadata": {},
   "outputs": [
    {
     "name": "stdout",
     "output_type": "stream",
     "text": [
      "0 cost: 6857.9805 \n",
      "prediction:\n",
      " [230.88612 268.25198 268.94876 295.0552  200.41382] \n",
      "\n",
      "1000 cost: 19.456238 \n",
      "prediction:\n",
      " [155.80194 181.36035 181.5949  200.04129 134.87935] \n",
      "\n",
      "2000 cost: 12.462451 \n",
      "prediction:\n",
      " [154.45819 182.28967 181.19348 199.67053 136.16678] \n",
      "\n"
     ]
    }
   ],
   "source": [
    "import tensorflow as tf\n",
    "\n",
    "#여기부터\n",
    "x1_data = [73,93, 89, 96, 73]\n",
    "x2_data = [80, 88, 91, 98, 66]\n",
    "x3_data = [75, 93, 90, 100, 70]\n",
    "y_data = [152, 185, 180, 196, 142]\n",
    "\n",
    "x1 = tf.placeholder(tf.float32)\n",
    "x2 = tf.placeholder(tf.float32)\n",
    "x3 = tf.placeholder(tf.float32)\n",
    "y = tf.placeholder(tf.float32)\n",
    "#여기까지 매트리스로 구현 가능\n",
    "\n",
    "w1 = tf.Variable(tf.random_normal([1]), name='weight1')\n",
    "w2 = tf.Variable(tf.random_normal([1]), name='weight2')\n",
    "w3 = tf.Variable(tf.random_normal([1]), name='weight3')\n",
    "b = tf.Variable(tf.random_normal([1]), name='bias')\n",
    "\n",
    "hypothesis = x1*w1 + x2*w2 + x3*w3 +b\n",
    "\n",
    "cost = tf.reduce_mean(tf.square(hypothesis-y))\n",
    "optimizer = tf.train.GradientDescentOptimizer(learning_rate = 1e-5)\n",
    "train = optimizer.minimize(cost)\n",
    "\n",
    "sess=tf.Session()\n",
    "sess.run(tf.global_variables_initializer())\n",
    "for step in range(2001):\n",
    "    cost_val, hy_val, _ = sess.run([cost, hypothesis, train],\n",
    "                        feed_dict={x1: x1_data, x2:x2_data, x3: x3_data, y: y_data})\n",
    "    if step % 1000 == 0:\n",
    "        print(step, \"cost:\", cost_val, \"\\nprediction:\\n\", hy_val, \"\\n\")"
   ]
  },
  {
   "cell_type": "markdown",
   "id": "a34e316d",
   "metadata": {},
   "source": [
    "### Matrix (0)"
   ]
  },
  {
   "cell_type": "code",
   "execution_count": 76,
   "id": "d4e91314",
   "metadata": {},
   "outputs": [
    {
     "name": "stdout",
     "output_type": "stream",
     "text": [
      "0 cost: 12.730005 \n",
      "prediction:\n",
      " [[151.74472]\n",
      " [189.52249]\n",
      " [183.12512]\n",
      " [198.33475]\n",
      " [147.28342]] \n",
      "\n",
      "1000 cost: 2.383389 \n",
      "prediction:\n",
      " [[149.75215]\n",
      " [185.91283]\n",
      " [180.19905]\n",
      " [195.09326]\n",
      " [144.27356]] \n",
      "\n",
      "2000 cost: 1.4940068 \n",
      "prediction:\n",
      " [[150.24074]\n",
      " [185.57631]\n",
      " [180.3467 ]\n",
      " [195.21582]\n",
      " [143.81873]] \n",
      "\n"
     ]
    }
   ],
   "source": [
    "import tensorflow as tf\n",
    "\n",
    "x_data = [[73,80,75],[93,88,93],[89,91,90],[96,98,100],[73,66,70]]\n",
    "y_data = [[152], [185], [180], [196], [142]]\n",
    "\n",
    "x = tf.placeholder(tf.float32, shape=[None,3])\n",
    "y = tf.placeholder(tf.float32, shape=[None,1])\n",
    "\n",
    "w = tf.Variable(tf.random_normal([3,1]), name='weight')\n",
    "b = tf.Variable(tf.random_normal([1]), name='bias')\n",
    "\n",
    "hypothesis = tf.matmul(x,w)+b\n",
    "\n",
    "cost = tf.reduce_mean(tf.square(hypothesis-y))\n",
    "optimizer = tf.train.GradientDescentOptimizer(learning_rate = 1e-5)\n",
    "train = optimizer.minimize(cost)\n",
    "\n",
    "sess=tf.Session()\n",
    "sess.run(tf.global_variables_initializer())\n",
    "for step in range(2001):\n",
    "    cost_val, hy_val, _ = sess.run([cost, hypothesis, train],\n",
    "                        feed_dict={x: x_data, y: y_data})\n",
    "    if step % 1000 == 0:\n",
    "        print(step, \"cost:\", cost_val, \"\\nprediction:\\n\", hy_val, \"\\n\")"
   ]
  },
  {
   "cell_type": "markdown",
   "id": "b3b6f5bc",
   "metadata": {},
   "source": [
    "# 04-2) 파일에서 데이터 읽어오기"
   ]
  },
  {
   "cell_type": "code",
   "execution_count": 18,
   "id": "49a567fc",
   "metadata": {},
   "outputs": [],
   "source": [
    "import tensorflow as tf\n",
    "import numpy as np\n",
    "\n",
    "xy = np.loadtxt('data-01-test-score.csv', delimiter=',', dtype=np.float32)\n",
    "x_data = xy[:, 0:-1]\n",
    "y_data = xy[:, [-1]]\n",
    "\n",
    "# Make sure the shape and data are OK\n",
    "#print(x_data.shape, \"\\n\", x_data, len(x_data))\n",
    "#print(y_data.shape, \"\\n\", y_data, len(y_data))"
   ]
  },
  {
   "cell_type": "code",
   "execution_count": 19,
   "id": "6c38358a",
   "metadata": {},
   "outputs": [
    {
     "name": "stdout",
     "output_type": "stream",
     "text": [
      "Your Score will be [[185.00087]]\n",
      "Your Score will be [[172.86266]\n",
      " [178.56493]]\n"
     ]
    }
   ],
   "source": [
    "import tensorflow as tf\n",
    "import numpy as np\n",
    "\n",
    "xy = np.loadtxt('data-01-test-score.csv', delimiter=',', dtype=np.float32)\n",
    "x_data = xy[:, 0:-1]\n",
    "y_data = xy[:, [-1]]\n",
    "\n",
    "x = tf.placeholder(tf.float32, shape=[None,3])\n",
    "y = tf.placeholder(tf.float32, shape=[None,1])\n",
    "\n",
    "w = tf.Variable(tf.random_normal([3,1]), name='weight')\n",
    "b = tf.Variable(tf.random_normal([1]), name='bias')\n",
    "\n",
    "hypothesis = tf.matmul(x,w)+b\n",
    "\n",
    "cost = tf.reduce_mean(tf.square(hypothesis-y))\n",
    "optimizer = tf.train.GradientDescentOptimizer(learning_rate = 1e-5)\n",
    "train = optimizer.minimize(cost)\n",
    "\n",
    "sess=tf.Session()\n",
    "sess.run(tf.global_variables_initializer())\n",
    "for step in range(2001):\n",
    "    cost_val, hy_val, _ = sess.run([cost, hypothesis, train],\n",
    "                        feed_dict={x: x_data, y: y_data})\n",
    "    #if step % 1000 == 0:\n",
    "    #    print(step, \"cost:\", cost_val, \"\\nprediction:\\n\", hy_val, \"\\n\")\n",
    "\n",
    "print(\"Your Score will be\", sess.run(hypothesis, feed_dict={x: [[100,70,101]]}))\n",
    "print(\"Your Score will be\", sess.run(hypothesis, feed_dict={x: [[60,70,110],[90,100,80]]}))\n"
   ]
  },
  {
   "cell_type": "markdown",
   "id": "727a3783",
   "metadata": {},
   "source": [
    "### Queue Runners 이용 - 이해 부족"
   ]
  },
  {
   "cell_type": "markdown",
   "id": "b04a4c7b",
   "metadata": {},
   "source": [
    "    파일의 양, 크기가 너무 클 경우 용량이 부족해진다.\n",
    "    tensorflow의 queue runner를 이용하여 해결"
   ]
  },
  {
   "cell_type": "code",
   "execution_count": null,
   "id": "f033d36f",
   "metadata": {},
   "outputs": [
    {
     "name": "stderr",
     "output_type": "stream",
     "text": [
      "C:\\Users\\jiho kang\\AppData\\Roaming\\Python\\Python37\\site-packages\\tensorflow\\python\\framework\\dtypes.py:516: FutureWarning: Passing (type, 1) or '1type' as a synonym of type is deprecated; in a future version of numpy, it will be understood as (type, (1,)) / '(1,)type'.\n",
      "  _np_qint8 = np.dtype([(\"qint8\", np.int8, 1)])\n",
      "C:\\Users\\jiho kang\\AppData\\Roaming\\Python\\Python37\\site-packages\\tensorflow\\python\\framework\\dtypes.py:517: FutureWarning: Passing (type, 1) or '1type' as a synonym of type is deprecated; in a future version of numpy, it will be understood as (type, (1,)) / '(1,)type'.\n",
      "  _np_quint8 = np.dtype([(\"quint8\", np.uint8, 1)])\n",
      "C:\\Users\\jiho kang\\AppData\\Roaming\\Python\\Python37\\site-packages\\tensorflow\\python\\framework\\dtypes.py:518: FutureWarning: Passing (type, 1) or '1type' as a synonym of type is deprecated; in a future version of numpy, it will be understood as (type, (1,)) / '(1,)type'.\n",
      "  _np_qint16 = np.dtype([(\"qint16\", np.int16, 1)])\n",
      "C:\\Users\\jiho kang\\AppData\\Roaming\\Python\\Python37\\site-packages\\tensorflow\\python\\framework\\dtypes.py:519: FutureWarning: Passing (type, 1) or '1type' as a synonym of type is deprecated; in a future version of numpy, it will be understood as (type, (1,)) / '(1,)type'.\n",
      "  _np_quint16 = np.dtype([(\"quint16\", np.uint16, 1)])\n",
      "C:\\Users\\jiho kang\\AppData\\Roaming\\Python\\Python37\\site-packages\\tensorflow\\python\\framework\\dtypes.py:520: FutureWarning: Passing (type, 1) or '1type' as a synonym of type is deprecated; in a future version of numpy, it will be understood as (type, (1,)) / '(1,)type'.\n",
      "  _np_qint32 = np.dtype([(\"qint32\", np.int32, 1)])\n",
      "C:\\Users\\jiho kang\\AppData\\Roaming\\Python\\Python37\\site-packages\\tensorflow\\python\\framework\\dtypes.py:525: FutureWarning: Passing (type, 1) or '1type' as a synonym of type is deprecated; in a future version of numpy, it will be understood as (type, (1,)) / '(1,)type'.\n",
      "  np_resource = np.dtype([(\"resource\", np.ubyte, 1)])\n"
     ]
    },
    {
     "name": "stdout",
     "output_type": "stream",
     "text": [
      "WARNING:tensorflow:From <ipython-input-1-563d13f86f69>:3: string_input_producer (from tensorflow.python.training.input) is deprecated and will be removed in a future version.\n",
      "Instructions for updating:\n",
      "Queue-based input pipelines have been replaced by `tf.data`. Use `tf.data.Dataset.from_tensor_slices(string_tensor).shuffle(tf.shape(input_tensor, out_type=tf.int64)[0]).repeat(num_epochs)`. If `shuffle=False`, omit the `.shuffle(...)`.\n",
      "WARNING:tensorflow:From C:\\Users\\jiho kang\\AppData\\Roaming\\Python\\Python37\\site-packages\\tensorflow\\python\\training\\input.py:278: input_producer (from tensorflow.python.training.input) is deprecated and will be removed in a future version.\n",
      "Instructions for updating:\n",
      "Queue-based input pipelines have been replaced by `tf.data`. Use `tf.data.Dataset.from_tensor_slices(input_tensor).shuffle(tf.shape(input_tensor, out_type=tf.int64)[0]).repeat(num_epochs)`. If `shuffle=False`, omit the `.shuffle(...)`.\n",
      "WARNING:tensorflow:From C:\\Users\\jiho kang\\AppData\\Roaming\\Python\\Python37\\site-packages\\tensorflow\\python\\training\\input.py:190: limit_epochs (from tensorflow.python.training.input) is deprecated and will be removed in a future version.\n",
      "Instructions for updating:\n",
      "Queue-based input pipelines have been replaced by `tf.data`. Use `tf.data.Dataset.from_tensors(tensor).repeat(num_epochs)`.\n",
      "WARNING:tensorflow:From C:\\Users\\jiho kang\\AppData\\Roaming\\Python\\Python37\\site-packages\\tensorflow\\python\\training\\input.py:199: QueueRunner.__init__ (from tensorflow.python.training.queue_runner_impl) is deprecated and will be removed in a future version.\n",
      "Instructions for updating:\n",
      "To construct input pipelines, use the `tf.data` module.\n",
      "WARNING:tensorflow:From C:\\Users\\jiho kang\\AppData\\Roaming\\Python\\Python37\\site-packages\\tensorflow\\python\\training\\input.py:199: add_queue_runner (from tensorflow.python.training.queue_runner_impl) is deprecated and will be removed in a future version.\n",
      "Instructions for updating:\n",
      "To construct input pipelines, use the `tf.data` module.\n",
      "WARNING:tensorflow:From <ipython-input-1-563d13f86f69>:4: TextLineReader.__init__ (from tensorflow.python.ops.io_ops) is deprecated and will be removed in a future version.\n",
      "Instructions for updating:\n",
      "Queue-based input pipelines have been replaced by `tf.data`. Use `tf.data.TextLineDataset`.\n",
      "WARNING:tensorflow:From <ipython-input-1-563d13f86f69>:11: batch (from tensorflow.python.training.input) is deprecated and will be removed in a future version.\n",
      "Instructions for updating:\n",
      "Queue-based input pipelines have been replaced by `tf.data`. Use `tf.data.Dataset.batch(batch_size)` (or `padded_batch(...)` if `dynamic_pad=True`).\n"
     ]
    },
    {
     "name": "stderr",
     "output_type": "stream",
     "text": [
      "C:\\Users\\jiho kang\\AppData\\Roaming\\Python\\Python37\\site-packages\\tensorboard\\compat\\tensorflow_stub\\dtypes.py:541: FutureWarning: Passing (type, 1) or '1type' as a synonym of type is deprecated; in a future version of numpy, it will be understood as (type, (1,)) / '(1,)type'.\n",
      "  _np_qint8 = np.dtype([(\"qint8\", np.int8, 1)])\n",
      "C:\\Users\\jiho kang\\AppData\\Roaming\\Python\\Python37\\site-packages\\tensorboard\\compat\\tensorflow_stub\\dtypes.py:542: FutureWarning: Passing (type, 1) or '1type' as a synonym of type is deprecated; in a future version of numpy, it will be understood as (type, (1,)) / '(1,)type'.\n",
      "  _np_quint8 = np.dtype([(\"quint8\", np.uint8, 1)])\n",
      "C:\\Users\\jiho kang\\AppData\\Roaming\\Python\\Python37\\site-packages\\tensorboard\\compat\\tensorflow_stub\\dtypes.py:543: FutureWarning: Passing (type, 1) or '1type' as a synonym of type is deprecated; in a future version of numpy, it will be understood as (type, (1,)) / '(1,)type'.\n",
      "  _np_qint16 = np.dtype([(\"qint16\", np.int16, 1)])\n",
      "C:\\Users\\jiho kang\\AppData\\Roaming\\Python\\Python37\\site-packages\\tensorboard\\compat\\tensorflow_stub\\dtypes.py:544: FutureWarning: Passing (type, 1) or '1type' as a synonym of type is deprecated; in a future version of numpy, it will be understood as (type, (1,)) / '(1,)type'.\n",
      "  _np_quint16 = np.dtype([(\"quint16\", np.uint16, 1)])\n",
      "C:\\Users\\jiho kang\\AppData\\Roaming\\Python\\Python37\\site-packages\\tensorboard\\compat\\tensorflow_stub\\dtypes.py:545: FutureWarning: Passing (type, 1) or '1type' as a synonym of type is deprecated; in a future version of numpy, it will be understood as (type, (1,)) / '(1,)type'.\n",
      "  _np_qint32 = np.dtype([(\"qint32\", np.int32, 1)])\n",
      "C:\\Users\\jiho kang\\AppData\\Roaming\\Python\\Python37\\site-packages\\tensorboard\\compat\\tensorflow_stub\\dtypes.py:550: FutureWarning: Passing (type, 1) or '1type' as a synonym of type is deprecated; in a future version of numpy, it will be understood as (type, (1,)) / '(1,)type'.\n",
      "  np_resource = np.dtype([(\"resource\", np.ubyte, 1)])\n"
     ]
    },
    {
     "name": "stdout",
     "output_type": "stream",
     "text": [
      "WARNING:tensorflow:From <ipython-input-1-563d13f86f69>:29: start_queue_runners (from tensorflow.python.training.queue_runner_impl) is deprecated and will be removed in a future version.\n",
      "Instructions for updating:\n",
      "To construct input pipelines, use the `tf.data` module.\n"
     ]
    }
   ],
   "source": [
    "import tensorflow as tf\n",
    "filename_queue = tf.train.string_input_producer(\n",
    "    ['data-01-test-scroe.csv'], shuffle=False, name='filename_queue')\n",
    "reader = tf.TextLineReader()\n",
    "key, value = reader.read(filename_queue)\n",
    "\n",
    "record_defaults = [[0.],[0.],[0.],[0.]]\n",
    "xy = tf.decode_csv(value, record_defaults=record_defaults)\n",
    "\n",
    "train_x_batch, train_y_batch = \\\n",
    "    tf.train.batch([xy[0:-1], xy[-1]], batch_size=10)\n",
    "\n",
    "x = tf.placeholder(tf.float32, shape=[None,3])\n",
    "y = tf.placeholder(tf.float32, shape=[None,1])\n",
    "\n",
    "w = tf.Variable(tf.random_normal([3,1]), name='weight')\n",
    "b = tf.Variable(tf.random_normal([1]), name='bias')\n",
    "\n",
    "hypothesis = tf.matmul(x,w)+b\n",
    "\n",
    "cost = tf.reduce_mean(tf.square(hypothesis-y))\n",
    "optimizer = tf.train.GradientDescentOptimizer(learning_rate = 1e-5)\n",
    "train = optimizer.minimize(cost)\n",
    "\n",
    "sess=tf.Session()\n",
    "sess.run(tf.global_variables_initializer())\n",
    "\n",
    "coord = tf.train.Coordinator()\n",
    "threads = tf.train.start_queue_runners(sess=sess, coord=coord)\n",
    "\n",
    "for step in range(2001):\n",
    "    x_batch, y_batch = sess.run([train_x_batch, train_y_batch])\n",
    "    cost_val, hy_val, _ = sess.run([cost, hypothesis, train],\n",
    "                        feed_dict={x: x_data, y: y_data})\n",
    "    if step % 1000 == 0:\n",
    "        print(step, \"cost:\", cost_val, \"\\nprediction:\\n\", hy_val, \"\\n\")\n",
    "        \n",
    "coord.request_stop()\n",
    "coord.join(threads)"
   ]
  },
  {
   "cell_type": "markdown",
   "id": "8f1db6a8",
   "metadata": {},
   "source": [
    "# 05) Logistic Classification 구현"
   ]
  },
  {
   "cell_type": "code",
   "execution_count": 15,
   "id": "a74518d9",
   "metadata": {},
   "outputs": [
    {
     "name": "stdout",
     "output_type": "stream",
     "text": [
      "0 0.6067502\n",
      "1000 0.48719576\n",
      "2000 0.40847698\n",
      "3000 0.34736288\n",
      "4000 0.299703\n",
      "5000 0.26227972\n",
      "6000 0.2325253\n",
      "7000 0.20851499\n",
      "8000 0.18884479\n",
      "9000 0.17249645\n",
      "10000 0.1587277\n",
      "\n",
      "Hypothesis: [[0.03471711]\n",
      " [0.16390936]\n",
      " [0.32336465]\n",
      " [0.77305526]\n",
      " [0.9342066 ]\n",
      " [0.97838426]] \n",
      "correct(y): [[0.]\n",
      " [0.]\n",
      " [0.]\n",
      " [1.]\n",
      " [1.]\n",
      " [1.]] \n",
      "Accuracy: 1.0\n"
     ]
    }
   ],
   "source": [
    "import tensorflow as tf\n",
    "\n",
    "x_data = [[1,2],[2,3],[3,1],[4,3],[5,3],[6,2]]\n",
    "y_data = [[0],[0],[0],[1],[1],[1]]\n",
    "\n",
    "x = tf.placeholder(tf.float32, shape=[None,2])\n",
    "y = tf.placeholder(tf.float32, shape=[None,1])\n",
    "w = tf.Variable(tf.random_normal([2,1]), name='weight')\n",
    "b = tf.Variable(tf.random_normal([1]), name='bias')\n",
    "\n",
    "hypothesis = tf.sigmoid(tf.matmul(x,w)+b)\n",
    "\n",
    "cost = -tf.reduce_mean(y*tf.log(hypothesis)+(1-y)*tf.log(1-hypothesis))\n",
    "\n",
    "train = tf.train.GradientDescentOptimizer(learning_rate=0.01).minimize(cost)\n",
    "\n",
    "#if문 같은 것.\n",
    "# true if hypothesis>0.5 and return(TorF) in float. T=1, F=0\n",
    "predicted = tf.cast(hypothesis>0.5, dtype = tf.float32)\n",
    "\n",
    "#predict값과 y의 값이 같으면 true, false를 float으로 반환하여 평균을 냄\n",
    "#값이 높을수록 정확도가 높은 것\n",
    "accuracy = tf.reduce_mean(tf.cast(tf.equal(predicted,y),dtype=tf.float32))\n",
    "\n",
    "with tf.Session() as sess:\n",
    "    sess.run(tf.global_variables_initializer())\n",
    "    for step in range(10001):\n",
    "        cost_val, _ = sess.run([cost, train], feed_dict={x: x_data, y:y_data})\n",
    "        if step % 1000 == 0:\n",
    "            print(step,cost_val)\n",
    "            \n",
    "    h,c,a = sess.run([hypothesis,predicted,accuracy], feed_dict={x: x_data, y:y_data})\n",
    "    print(\"\\nHypothesis:\",h,\"\\ncorrect(y):\",c,\"\\nAccuracy:\",a)"
   ]
  },
  {
   "cell_type": "markdown",
   "id": "bbc729a8",
   "metadata": {},
   "source": [
    "### Classifying diabetes (실제 데이터로 당뇨병 예측하기)"
   ]
  },
  {
   "cell_type": "code",
   "execution_count": 22,
   "id": "ab7cc8e6",
   "metadata": {},
   "outputs": [
    {
     "name": "stdout",
     "output_type": "stream",
     "text": [
      "0 0.78851503\n",
      "1000 0.19812554\n",
      "2000 0.13121735\n",
      "3000 0.09905819\n",
      "4000 0.079812214\n",
      "5000 0.06692143\n",
      "6000 0.057655923\n",
      "7000 0.05066346\n",
      "8000 0.04519385\n",
      "9000 0.040795926\n",
      "10000 0.037181523\n",
      "\n",
      "Hypothesis: [[0.07710411]\n",
      " [0.9445081 ]\n",
      " [0.01855678]\n",
      " [0.9809976 ]\n",
      " [0.01058839]] \n",
      "correct(y): [[0.]\n",
      " [1.]\n",
      " [0.]\n",
      " [1.]\n",
      " [0.]] \n",
      "Accuracy: 1.0\n"
     ]
    }
   ],
   "source": [
    "import tensorflow as tf\n",
    "import numpy as np\n",
    "\n",
    "xy = np.loadtxt('data-03-diabetes.csv', delimiter = ',', dtype=np.float32)\n",
    "x_data=xy[:,0:-1]#여기 한번 수정해보기\n",
    "y_data=xy[:,[-1]]\n",
    "\n",
    "x = tf.placeholder(tf.float32, shape=[None,8])\n",
    "y = tf.placeholder(tf.float32, shape=[None,1])\n",
    "w = tf.Variable(tf.random_normal([8,1]), name='weight')\n",
    "b = tf.Variable(tf.random_normal([1]), name='bias')\n",
    "\n",
    "hypothesis = tf.sigmoid(tf.matmul(x,w)+b)\n",
    "\n",
    "cost = -tf.reduce_mean(y*tf.log(hypothesis)+(1-y)*tf.log(1-hypothesis))\n",
    "\n",
    "train = tf.train.GradientDescentOptimizer(learning_rate=0.01).minimize(cost)\n",
    "\n",
    "#if문 같은 것.\n",
    "# true if hypothesis>0.5 and return(TorF) in float. T=1, F=0\n",
    "predicted = tf.cast(hypothesis>0.5, dtype = tf.float32)\n",
    "\n",
    "#predict값과 y의 값이 같으면 true, false를 float으로 반환하여 평균을 냄\n",
    "#값이 높을수록 정확도가 높은 것\n",
    "accuracy = tf.reduce_mean(tf.cast(tf.equal(predicted,y),dtype=tf.float32))\n",
    "\n",
    "with tf.Session() as sess:\n",
    "    sess.run(tf.global_variables_initializer())\n",
    "    for step in range(10001):\n",
    "        cost_val, _ = sess.run([cost, train], feed_dict={x: x_data, y:y_data})\n",
    "        if step % 1000 == 0:\n",
    "            print(step,cost_val)\n",
    "            \n",
    "    h,c,a = sess.run([hypothesis,predicted,accuracy], feed_dict={x: x_data, y:y_data})\n",
    "    print(\"\\nHypothesis:\",h,\"\\ncorrect(y):\",c,\"\\nAccuracy:\",a)"
   ]
  },
  {
   "cell_type": "code",
   "execution_count": null,
   "id": "897242c8",
   "metadata": {},
   "outputs": [],
   "source": []
  }
 ],
 "metadata": {
  "jupytext": {
   "formats": "ipynb,auto:light"
  },
  "kernelspec": {
   "display_name": "Python 3",
   "language": "python",
   "name": "python3"
  },
  "language_info": {
   "codemirror_mode": {
    "name": "ipython",
    "version": 3
   },
   "file_extension": ".py",
   "mimetype": "text/x-python",
   "name": "python",
   "nbconvert_exporter": "python",
   "pygments_lexer": "ipython3",
   "version": "3.7.10"
  }
 },
 "nbformat": 4,
 "nbformat_minor": 5
}
